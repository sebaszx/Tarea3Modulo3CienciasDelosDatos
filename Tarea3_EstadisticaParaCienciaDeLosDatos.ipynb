{
  "nbformat": 4,
  "nbformat_minor": 0,
  "metadata": {
    "colab": {
      "name": "Tarea3_EstadisticaParaCienciaDeLosDatos.ipynb",
      "provenance": [],
      "collapsed_sections": [],
      "toc_visible": true,
      "include_colab_link": true
    },
    "kernelspec": {
      "name": "python3",
      "display_name": "Python 3"
    }
  },
  "cells": [
    {
      "cell_type": "markdown",
      "metadata": {
        "id": "view-in-github",
        "colab_type": "text"
      },
      "source": [
        "<a href=\"https://colab.research.google.com/github/sebaszx/Tarea3Modulo3CienciasDelosDatos/blob/main/Tarea3_EstadisticaParaCienciaDeLosDatos.ipynb\" target=\"_parent\"><img src=\"https://colab.research.google.com/assets/colab-badge.svg\" alt=\"Open In Colab\"/></a>"
      ]
    },
    {
      "cell_type": "markdown",
      "metadata": {
        "id": "jdtaAwa8XzNA"
      },
      "source": [
        "# Estadística para Ciencia de los Datos\n",
        "\n",
        "---\n",
        "\n",
        "\n",
        "\n",
        "# Tarea #3\n",
        "Esta tarea se puede realizar en parejas si así lo desean. La presente asignación busca que los estudiantes apliquen intervalos de confianza como un medio para explorar los conjuntos de datos de la Tarea \\#2.  En esa tarea se pidió analizar un grupo de columnas en busca de las distribuciones que modelaban más adecuadamente cada una.\n",
        "\n",
        "Se pide a los estudiantes que seleccionen 2 columnas de variables cuantitativas del conjunto de datos y exploren intervalos de confianza y el contexto alrededor de ellos. \n",
        "\n",
        "\n",
        "\n",
        "\n",
        "\n",
        "\n",
        "Nótese que los apartados anteriores deben desarrollarse 2 veces. Una vez por cada columna.\n",
        "\n",
        "Como ha sido costumbre, se espera que los estudiantes entreguen un notebook de colab con tanto nivel de detalle como sea posible. La calificación de cada apartado depende que los estudiantes hayan logrado demostrar con claridad y detalle lo planteado en cada punto.\n",
        "\n",
        "Los estudiantes deberán realizar la entrega a través de TEC Digital a más tardar el día 24 de julio a las 10:00 PM."
      ]
    },
    {
      "cell_type": "markdown",
      "source": [
        "**Estudiantes:**\n",
        "\n",
        "\n",
        "1.   Sebastián Porras\n",
        "2.   Luis Vargas\n",
        "\n"
      ],
      "metadata": {
        "id": "d57SeNee9Oi8"
      }
    },
    {
      "cell_type": "code",
      "source": [
        "import pandas as pd\n",
        "\n",
        "import matplotlib.pyplot as plt\n",
        "#import seaborn as sns\n",
        "from scipy.stats import norm\n",
        "import numpy as np\n",
        "#import torch\n",
        "from statistics import stdev, pstdev,mean"
      ],
      "metadata": {
        "id": "O6idAi36j4Sb"
      },
      "execution_count": null,
      "outputs": []
    },
    {
      "cell_type": "code",
      "source": [
        "df= pd.read_csv(\"https://raw.githubusercontent.com/sebaszx/Tarea2CienciasDeLosDatosModulo3/main/datasetTarea2.csv\")"
      ],
      "metadata": {
        "id": "ME-tcLq6jyiZ"
      },
      "execution_count": null,
      "outputs": []
    },
    {
      "cell_type": "code",
      "source": [
        "df.head(10)"
      ],
      "metadata": {
        "colab": {
          "base_uri": "https://localhost:8080/",
          "height": 363
        },
        "id": "I7qsSHP4kUKL",
        "outputId": "04843f5c-7195-4214-8c03-78dff3ab311c"
      },
      "execution_count": null,
      "outputs": [
        {
          "output_type": "execute_result",
          "data": {
            "text/plain": [
              "   carat        cut color clarity  depth  table  price     x     y     z  \\\n",
              "0   0.32    Premium     J     VS2   61.9   58.0    504  4.38  4.35  2.70   \n",
              "1   1.50       Good     F     SI2   62.9   59.0   7727  7.19  7.32  4.56   \n",
              "2   0.38      Ideal     H     VS1   61.7   55.0    955  4.65  4.70  2.89   \n",
              "3   0.53      Ideal     F    VVS1   62.1   53.2   2273  5.17  5.21  3.22   \n",
              "4   0.55      Ideal     D     VS2   60.6   56.0   2224  5.30  5.36  3.23   \n",
              "5   0.52    Premium     I     SI1   62.5   59.0   1073  5.12  5.06  3.18   \n",
              "6   0.51  Very Good     E     VS2   62.8   56.0   1612  5.11  5.14  3.22   \n",
              "7   0.37  Very Good     D     VS2   60.0   57.0    760  4.70  4.76  2.84   \n",
              "8   1.06    Premium     E     SI1   63.0   56.0   4689  6.54  6.45  4.09   \n",
              "9   0.41      Ideal     G      IF   62.4   54.0   1259  4.76  4.79  2.98   \n",
              "\n",
              "   unknownCol  \n",
              "0         5.1  \n",
              "1         4.9  \n",
              "2         4.7  \n",
              "3         4.6  \n",
              "4         5.0  \n",
              "5         5.4  \n",
              "6         4.6  \n",
              "7         5.0  \n",
              "8         4.4  \n",
              "9         4.9  "
            ],
            "text/html": [
              "\n",
              "  <div id=\"df-763a06f4-fd67-4bc5-a826-e07783e43c3c\">\n",
              "    <div class=\"colab-df-container\">\n",
              "      <div>\n",
              "<style scoped>\n",
              "    .dataframe tbody tr th:only-of-type {\n",
              "        vertical-align: middle;\n",
              "    }\n",
              "\n",
              "    .dataframe tbody tr th {\n",
              "        vertical-align: top;\n",
              "    }\n",
              "\n",
              "    .dataframe thead th {\n",
              "        text-align: right;\n",
              "    }\n",
              "</style>\n",
              "<table border=\"1\" class=\"dataframe\">\n",
              "  <thead>\n",
              "    <tr style=\"text-align: right;\">\n",
              "      <th></th>\n",
              "      <th>carat</th>\n",
              "      <th>cut</th>\n",
              "      <th>color</th>\n",
              "      <th>clarity</th>\n",
              "      <th>depth</th>\n",
              "      <th>table</th>\n",
              "      <th>price</th>\n",
              "      <th>x</th>\n",
              "      <th>y</th>\n",
              "      <th>z</th>\n",
              "      <th>unknownCol</th>\n",
              "    </tr>\n",
              "  </thead>\n",
              "  <tbody>\n",
              "    <tr>\n",
              "      <th>0</th>\n",
              "      <td>0.32</td>\n",
              "      <td>Premium</td>\n",
              "      <td>J</td>\n",
              "      <td>VS2</td>\n",
              "      <td>61.9</td>\n",
              "      <td>58.0</td>\n",
              "      <td>504</td>\n",
              "      <td>4.38</td>\n",
              "      <td>4.35</td>\n",
              "      <td>2.70</td>\n",
              "      <td>5.1</td>\n",
              "    </tr>\n",
              "    <tr>\n",
              "      <th>1</th>\n",
              "      <td>1.50</td>\n",
              "      <td>Good</td>\n",
              "      <td>F</td>\n",
              "      <td>SI2</td>\n",
              "      <td>62.9</td>\n",
              "      <td>59.0</td>\n",
              "      <td>7727</td>\n",
              "      <td>7.19</td>\n",
              "      <td>7.32</td>\n",
              "      <td>4.56</td>\n",
              "      <td>4.9</td>\n",
              "    </tr>\n",
              "    <tr>\n",
              "      <th>2</th>\n",
              "      <td>0.38</td>\n",
              "      <td>Ideal</td>\n",
              "      <td>H</td>\n",
              "      <td>VS1</td>\n",
              "      <td>61.7</td>\n",
              "      <td>55.0</td>\n",
              "      <td>955</td>\n",
              "      <td>4.65</td>\n",
              "      <td>4.70</td>\n",
              "      <td>2.89</td>\n",
              "      <td>4.7</td>\n",
              "    </tr>\n",
              "    <tr>\n",
              "      <th>3</th>\n",
              "      <td>0.53</td>\n",
              "      <td>Ideal</td>\n",
              "      <td>F</td>\n",
              "      <td>VVS1</td>\n",
              "      <td>62.1</td>\n",
              "      <td>53.2</td>\n",
              "      <td>2273</td>\n",
              "      <td>5.17</td>\n",
              "      <td>5.21</td>\n",
              "      <td>3.22</td>\n",
              "      <td>4.6</td>\n",
              "    </tr>\n",
              "    <tr>\n",
              "      <th>4</th>\n",
              "      <td>0.55</td>\n",
              "      <td>Ideal</td>\n",
              "      <td>D</td>\n",
              "      <td>VS2</td>\n",
              "      <td>60.6</td>\n",
              "      <td>56.0</td>\n",
              "      <td>2224</td>\n",
              "      <td>5.30</td>\n",
              "      <td>5.36</td>\n",
              "      <td>3.23</td>\n",
              "      <td>5.0</td>\n",
              "    </tr>\n",
              "    <tr>\n",
              "      <th>5</th>\n",
              "      <td>0.52</td>\n",
              "      <td>Premium</td>\n",
              "      <td>I</td>\n",
              "      <td>SI1</td>\n",
              "      <td>62.5</td>\n",
              "      <td>59.0</td>\n",
              "      <td>1073</td>\n",
              "      <td>5.12</td>\n",
              "      <td>5.06</td>\n",
              "      <td>3.18</td>\n",
              "      <td>5.4</td>\n",
              "    </tr>\n",
              "    <tr>\n",
              "      <th>6</th>\n",
              "      <td>0.51</td>\n",
              "      <td>Very Good</td>\n",
              "      <td>E</td>\n",
              "      <td>VS2</td>\n",
              "      <td>62.8</td>\n",
              "      <td>56.0</td>\n",
              "      <td>1612</td>\n",
              "      <td>5.11</td>\n",
              "      <td>5.14</td>\n",
              "      <td>3.22</td>\n",
              "      <td>4.6</td>\n",
              "    </tr>\n",
              "    <tr>\n",
              "      <th>7</th>\n",
              "      <td>0.37</td>\n",
              "      <td>Very Good</td>\n",
              "      <td>D</td>\n",
              "      <td>VS2</td>\n",
              "      <td>60.0</td>\n",
              "      <td>57.0</td>\n",
              "      <td>760</td>\n",
              "      <td>4.70</td>\n",
              "      <td>4.76</td>\n",
              "      <td>2.84</td>\n",
              "      <td>5.0</td>\n",
              "    </tr>\n",
              "    <tr>\n",
              "      <th>8</th>\n",
              "      <td>1.06</td>\n",
              "      <td>Premium</td>\n",
              "      <td>E</td>\n",
              "      <td>SI1</td>\n",
              "      <td>63.0</td>\n",
              "      <td>56.0</td>\n",
              "      <td>4689</td>\n",
              "      <td>6.54</td>\n",
              "      <td>6.45</td>\n",
              "      <td>4.09</td>\n",
              "      <td>4.4</td>\n",
              "    </tr>\n",
              "    <tr>\n",
              "      <th>9</th>\n",
              "      <td>0.41</td>\n",
              "      <td>Ideal</td>\n",
              "      <td>G</td>\n",
              "      <td>IF</td>\n",
              "      <td>62.4</td>\n",
              "      <td>54.0</td>\n",
              "      <td>1259</td>\n",
              "      <td>4.76</td>\n",
              "      <td>4.79</td>\n",
              "      <td>2.98</td>\n",
              "      <td>4.9</td>\n",
              "    </tr>\n",
              "  </tbody>\n",
              "</table>\n",
              "</div>\n",
              "      <button class=\"colab-df-convert\" onclick=\"convertToInteractive('df-763a06f4-fd67-4bc5-a826-e07783e43c3c')\"\n",
              "              title=\"Convert this dataframe to an interactive table.\"\n",
              "              style=\"display:none;\">\n",
              "        \n",
              "  <svg xmlns=\"http://www.w3.org/2000/svg\" height=\"24px\"viewBox=\"0 0 24 24\"\n",
              "       width=\"24px\">\n",
              "    <path d=\"M0 0h24v24H0V0z\" fill=\"none\"/>\n",
              "    <path d=\"M18.56 5.44l.94 2.06.94-2.06 2.06-.94-2.06-.94-.94-2.06-.94 2.06-2.06.94zm-11 1L8.5 8.5l.94-2.06 2.06-.94-2.06-.94L8.5 2.5l-.94 2.06-2.06.94zm10 10l.94 2.06.94-2.06 2.06-.94-2.06-.94-.94-2.06-.94 2.06-2.06.94z\"/><path d=\"M17.41 7.96l-1.37-1.37c-.4-.4-.92-.59-1.43-.59-.52 0-1.04.2-1.43.59L10.3 9.45l-7.72 7.72c-.78.78-.78 2.05 0 2.83L4 21.41c.39.39.9.59 1.41.59.51 0 1.02-.2 1.41-.59l7.78-7.78 2.81-2.81c.8-.78.8-2.07 0-2.86zM5.41 20L4 18.59l7.72-7.72 1.47 1.35L5.41 20z\"/>\n",
              "  </svg>\n",
              "      </button>\n",
              "      \n",
              "  <style>\n",
              "    .colab-df-container {\n",
              "      display:flex;\n",
              "      flex-wrap:wrap;\n",
              "      gap: 12px;\n",
              "    }\n",
              "\n",
              "    .colab-df-convert {\n",
              "      background-color: #E8F0FE;\n",
              "      border: none;\n",
              "      border-radius: 50%;\n",
              "      cursor: pointer;\n",
              "      display: none;\n",
              "      fill: #1967D2;\n",
              "      height: 32px;\n",
              "      padding: 0 0 0 0;\n",
              "      width: 32px;\n",
              "    }\n",
              "\n",
              "    .colab-df-convert:hover {\n",
              "      background-color: #E2EBFA;\n",
              "      box-shadow: 0px 1px 2px rgba(60, 64, 67, 0.3), 0px 1px 3px 1px rgba(60, 64, 67, 0.15);\n",
              "      fill: #174EA6;\n",
              "    }\n",
              "\n",
              "    [theme=dark] .colab-df-convert {\n",
              "      background-color: #3B4455;\n",
              "      fill: #D2E3FC;\n",
              "    }\n",
              "\n",
              "    [theme=dark] .colab-df-convert:hover {\n",
              "      background-color: #434B5C;\n",
              "      box-shadow: 0px 1px 3px 1px rgba(0, 0, 0, 0.15);\n",
              "      filter: drop-shadow(0px 1px 2px rgba(0, 0, 0, 0.3));\n",
              "      fill: #FFFFFF;\n",
              "    }\n",
              "  </style>\n",
              "\n",
              "      <script>\n",
              "        const buttonEl =\n",
              "          document.querySelector('#df-763a06f4-fd67-4bc5-a826-e07783e43c3c button.colab-df-convert');\n",
              "        buttonEl.style.display =\n",
              "          google.colab.kernel.accessAllowed ? 'block' : 'none';\n",
              "\n",
              "        async function convertToInteractive(key) {\n",
              "          const element = document.querySelector('#df-763a06f4-fd67-4bc5-a826-e07783e43c3c');\n",
              "          const dataTable =\n",
              "            await google.colab.kernel.invokeFunction('convertToInteractive',\n",
              "                                                     [key], {});\n",
              "          if (!dataTable) return;\n",
              "\n",
              "          const docLinkHtml = 'Like what you see? Visit the ' +\n",
              "            '<a target=\"_blank\" href=https://colab.research.google.com/notebooks/data_table.ipynb>data table notebook</a>'\n",
              "            + ' to learn more about interactive tables.';\n",
              "          element.innerHTML = '';\n",
              "          dataTable['output_type'] = 'display_data';\n",
              "          await google.colab.output.renderOutput(dataTable, element);\n",
              "          const docLink = document.createElement('div');\n",
              "          docLink.innerHTML = docLinkHtml;\n",
              "          element.appendChild(docLink);\n",
              "        }\n",
              "      </script>\n",
              "    </div>\n",
              "  </div>\n",
              "  "
            ]
          },
          "metadata": {},
          "execution_count": 3
        }
      ]
    },
    {
      "cell_type": "markdown",
      "source": [
        "#Parte 1"
      ],
      "metadata": {
        "id": "c2EHJM-EDimx"
      }
    },
    {
      "cell_type": "markdown",
      "source": [
        "Para toda esta tarea vamos a suponer que el set de datos de diamantes es nuestra población de interés. Partiendo de este supuesto, para ambas columnas obtenga el promedio poblacional y la desviación estándar poblacional.\n",
        "\n",
        "Con estas medias poblacionales los estudiantes deberán, para ambas columnas:\n",
        "- Seleccionar una muestra aleatoria con un $n$ = 25.\n",
        "- Crear 1 intervalo de confianza para la media con un nivel de confianza de 90\\% e indique si incluye el promedio poblacional.(**10 puntos**)\n",
        "- Igual que el anterior, con un nivel de confianza de 95% e indique si incluye el promedio poblacional. (**5 puntos**)\n",
        "- Igual que el anterior, con una confianza de 99% e indique si incluye el promedio poblacional. (**5 puntos**)"
      ],
      "metadata": {
        "id": "zrrezuUZjkk7"
      }
    },
    {
      "cell_type": "markdown",
      "source": [
        "##Muestras aleatorias de variables selecionadas"
      ],
      "metadata": {
        "id": "0XvuZQ8Ml9cQ"
      }
    },
    {
      "cell_type": "markdown",
      "source": [
        "Las columnas cuantitativas seleccionadas son:\n",
        "\n",
        "\n",
        "1.   depth\n",
        "2.   price\n",
        "\n"
      ],
      "metadata": {
        "id": "kfzznQc7kajT"
      }
    },
    {
      "cell_type": "code",
      "source": [
        "price=df['price']\n",
        "depth=df['depth'] # con table cambia un poco"
      ],
      "metadata": {
        "id": "hSMfOdqflst8"
      },
      "execution_count": null,
      "outputs": []
    },
    {
      "cell_type": "code",
      "source": [
        "# Utilizando el paquete statistics de python calculamos stdev, pstdev.\n",
        "# Este último se utiliza para la desviación estándar poblacional\n",
        "depth_mean=mean(depth)\n",
        "price_mean=mean(price)\n",
        "depth_pstdev=pstdev(depth)\n",
        "price_pstdev=pstdev(price)\n",
        "\n",
        "print(f'Media depth {depth_mean}')\n",
        "print(f'Desviación estándar depth {depth_pstdev}')\n",
        "print(f'Media price {price_mean}')\n",
        "print(f'Desviación estándar price {price_pstdev}')"
      ],
      "metadata": {
        "colab": {
          "base_uri": "https://localhost:8080/"
        },
        "id": "lZETr6IzklDU",
        "outputId": "79e09965-6724-497a-a07d-84e67aa5b373"
      },
      "execution_count": null,
      "outputs": [
        {
          "output_type": "stream",
          "name": "stdout",
          "text": [
            "Media depth 61.788\n",
            "Desviación estándar depth 1.4213922752006214\n",
            "Media price 3751.065\n",
            "Desviación estándar price 3875.0370528260755\n"
          ]
        }
      ]
    },
    {
      "cell_type": "code",
      "source": [
        "#Se escoge un muestra aleatoria de n = 25\n",
        "def RandomChoice(datos,n):\n",
        "  return np.random.choice(datos,size=n)\n",
        "np.random.seed(30)\n",
        "#np.random.seed(125)\n",
        "randomChoiceDepth=RandomChoice(depth,n=25)\n",
        "randomChoicePrice=RandomChoice(price,n=25)\n",
        "\n",
        "print(f'muestra aleatoria depth {randomChoiceDepth}')\n",
        "print('\\n')\n",
        "print(f'muestra aleatoria price {randomChoicePrice}')"
      ],
      "metadata": {
        "colab": {
          "base_uri": "https://localhost:8080/"
        },
        "id": "FEYtSpdcnBb9",
        "outputId": "10f7816e-dec5-479f-9735-85dadd7336d2"
      },
      "execution_count": null,
      "outputs": [
        {
          "output_type": "stream",
          "name": "stdout",
          "text": [
            "muestra aleatoria depth [62.8 61.4 61.6 61.8 63.2 62.2 62.9 59.3 62.  61.5 61.4 62.4 60.  62.6\n",
            " 61.9 60.3 61.6 60.  62.9 61.9 61.9 61.1 63.  59.6 59.2]\n",
            "\n",
            "\n",
            "muestra aleatoria price [ 3653  8207  4394  2113  6617  3653  4356   429  6532  1668  4935   521\n",
            "  4341  1760   968   878  2367  3249 13324  7550   927 10106   943 14735\n",
            " 13324]\n"
          ]
        }
      ]
    },
    {
      "cell_type": "markdown",
      "source": [
        "Dado que conocemos la desviación estándar de la población $\\sigma$, podemos sustituir $\\sigma_{\\overline{x}}=\\sigma/\\sqrt n$, y obtener:\n",
        "\n",
        "\\begin{equation}\n",
        "\\overline{x}\\pm\\frac{\\sigma\\, z_{\\alpha/2}}{\\sqrt{n}}\n",
        "\\end{equation}"
      ],
      "metadata": {
        "id": "pLVFGGLhwnL5"
      }
    },
    {
      "cell_type": "markdown",
      "source": [
        "A continuación, se implementa una función para calcular inetrvalos de confianza, con base en el valor crítico de $Z$, la desviación estándar poblacional y el valor de $\\alpha$, para niveles de confianza determinados."
      ],
      "metadata": {
        "id": "jwhjHhzhJpIV"
      }
    },
    {
      "cell_type": "code",
      "source": [
        "#Función para calcular intervalos de confianza (desviación estándar conocida)\n",
        "def IntervaloConfianza(media_sample,media_poblacional,pstdev,n,alpha,col):\n",
        "  intervaloInferior=media_sample-((norm.ppf(1-alpha/2)*pstdev)/np.sqrt(n))\n",
        "  intervaloSuperior=media_sample+((norm.ppf(1-alpha/2)*pstdev)/np.sqrt(n))\n",
        "  print('Tamaño del intervalo =', abs(intervaloInferior-intervaloSuperior))# Esto es para ver si el intervalo crece o se hace más pequeño\n",
        "  print('Media de la muestra =', media_sample)\n",
        "  if intervaloInferior <= media_poblacional and media_poblacional <= intervaloSuperior:\n",
        "    return f'La media poblacional {media_poblacional} se encuentra entre los valores de {intervaloInferior} y {intervaloSuperior} con un alpha de {alpha} y un N de {n} para la columna {col}'\n",
        "  else:\n",
        "    return f'La media poblacional {media_poblacional} NO se encuentra entre los valores de {intervaloInferior} y {intervaloSuperior} con un alpha de {alpha} y un N de {n} para la columna {col}'\n",
        "  "
      ],
      "metadata": {
        "id": "YfuZIKjIwxqG"
      },
      "execution_count": null,
      "outputs": []
    },
    {
      "cell_type": "markdown",
      "source": [
        "##Intervalos de confianza - Variable 'depth'"
      ],
      "metadata": {
        "id": "c8DN-tG0LKHm"
      }
    },
    {
      "cell_type": "code",
      "source": [
        "#Depth\n",
        "#Se calculan los intervalos de confianza con niveles de confianza de 90%, 95% y 99%, respectivamente\n",
        "DepthConfianza=IntervaloConfianza(mean(randomChoiceDepth),depth_mean,depth_pstdev,len(randomChoiceDepth),.10,'Depth')\n",
        "print(DepthConfianza)\n",
        "print('\\n')\n",
        "DepthConfianza=IntervaloConfianza(mean(randomChoiceDepth),depth_mean,depth_pstdev,len(randomChoiceDepth),.05,'Depth')\n",
        "print(DepthConfianza)\n",
        "print('\\n')\n",
        "DepthConfianza=IntervaloConfianza(mean(randomChoiceDepth),depth_mean,depth_pstdev,len(randomChoiceDepth),.01,'Depth')\n",
        "print(DepthConfianza)\n",
        "print('\\n')"
      ],
      "metadata": {
        "colab": {
          "base_uri": "https://localhost:8080/"
        },
        "id": "9uoiSdz2LJYk",
        "outputId": "04506db9-84f9-453f-cfc1-878c3797a1c9"
      },
      "execution_count": null,
      "outputs": [
        {
          "output_type": "stream",
          "name": "stdout",
          "text": [
            "Tamaño del intervalo = 0.935192895673822\n",
            "Media de la muestra = 61.54\n",
            "La media poblacional 61.788 se encuentra entre los valores de 61.07240355216309 y 62.00759644783691 con un alpha de 0.1 y un N de 25 para la columna Depth\n",
            "\n",
            "\n",
            "Tamaño del intervalo = 1.1143510669186583\n",
            "Media de la muestra = 61.54\n",
            "La media poblacional 61.788 se encuentra entre los valores de 60.98282446654067 y 62.09717553345933 con un alpha de 0.05 y un N de 25 para la columna Depth\n",
            "\n",
            "\n",
            "Tamaño del intervalo = 1.4645055497199166\n",
            "Media de la muestra = 61.54\n",
            "La media poblacional 61.788 se encuentra entre los valores de 60.80774722514004 y 62.27225277485996 con un alpha de 0.01 y un N de 25 para la columna Depth\n",
            "\n",
            "\n"
          ]
        }
      ]
    },
    {
      "cell_type": "markdown",
      "source": [
        "##Intervalos de confianza - Variable 'price'"
      ],
      "metadata": {
        "id": "MKvC0x36LaPA"
      }
    },
    {
      "cell_type": "code",
      "source": [
        "#Price\n",
        "#Se calculan los intervalos de confianza con niveles de confianza de 90%, 95% y 99%, respectivamente\n",
        "PriceConfianza=IntervaloConfianza(mean(randomChoicePrice),price_mean,price_pstdev,len(randomChoicePrice),.10,'Price')\n",
        "print(PriceConfianza)\n",
        "print('\\n')\n",
        "PriceConfianza=IntervaloConfianza(mean(randomChoicePrice),price_mean,price_pstdev,len(randomChoicePrice),.05,'Price')\n",
        "print(PriceConfianza)\n",
        "print('\\n')\n",
        "PriceConfianza=IntervaloConfianza(mean(randomChoicePrice),price_mean,price_pstdev,len(randomChoicePrice),.01,'Price')\n",
        "print(PriceConfianza)\n",
        "print('\\n')"
      ],
      "metadata": {
        "colab": {
          "base_uri": "https://localhost:8080/"
        },
        "id": "Joe9HAx76aLF",
        "outputId": "b005a5af-270a-425a-8fd5-55dfb3ad4661"
      },
      "execution_count": null,
      "outputs": [
        {
          "output_type": "stream",
          "name": "stdout",
          "text": [
            "Tamaño del intervalo = 2549.547500364926\n",
            "Media de la muestra = 4862\n",
            "La media poblacional 3751.065 se encuentra entre los valores de 3587.2262498175373 y 6136.773750182463 con un alpha de 0.1 y un N de 25 para la columna Price\n",
            "\n",
            "\n",
            "Tamaño del intervalo = 3037.973224918937\n",
            "Media de la muestra = 4862\n",
            "La media poblacional 3751.065 se encuentra entre los valores de 3343.0133875405313 y 6380.986612459468 con un alpha de 0.05 y un N de 25 para la columna Price\n",
            "\n",
            "\n",
            "Tamaño del intervalo = 3992.5735972028688\n",
            "Media de la muestra = 4862\n",
            "La media poblacional 3751.065 se encuentra entre los valores de 2865.7132013985656 y 6858.286798601434 con un alpha de 0.01 y un N de 25 para la columna Price\n",
            "\n",
            "\n"
          ]
        }
      ]
    },
    {
      "cell_type": "markdown",
      "source": [
        "¿Qué concluye de los intervalos de confianza anteriores? ¿Aumentan, disminuyen, se mantienen igual?\n",
        "Si hay cambios, ¿por qué ocurre esto? (**10 puntos**)\n"
      ],
      "metadata": {
        "id": "a7LlDhbnBjEF"
      }
    },
    {
      "cell_type": "markdown",
      "source": [
        "Como nuestra única variable que cambia es el $α$ podemos decir con seguridad que conforme $α$ disminuye, el intervalo de confianza crece. Por definición, el intervalo de confianza se expresa como $1 - \\alpha$, por lo que son valores complementarios.\n",
        "\n",
        "En el caso particular de las variables seleccionadas, se observa también que la media poblacional usualmente sí se encuentra dentro de los diferentes intervalos de confianza estimados para ambas variables. No obstante, en algunos casos, dependiendo de la muestra aleatoria, puede que el intervalo de confianza de la variable 'price' no incluya la media poblacional para valores de $\\alpha$ de $0.10$, o incluso $0.05$. Por ejemplo, ver $np.random.seed(125)$ al seleccionar la muestra aleatoria. Esto puede deberse en parte a que la varianza de 'price' es relativamente alta; de hecho, la desviación estándar poblacional es mayor que la media poblacional."
      ],
      "metadata": {
        "id": "AM88TxAI3xP2"
      }
    },
    {
      "cell_type": "markdown",
      "source": [
        "#Parte 2"
      ],
      "metadata": {
        "id": "UAdXICuud_Oy"
      }
    },
    {
      "cell_type": "markdown",
      "source": [
        "- Analizar al menos 3 valores de $n$, es decir use al menos 3 muestras aleatorias de diferentes tamaños (por ejemplo 5, 20, 50). Explique que impacto tiene $n$ en el intervalo de confianza, además indique si se incluye o no el promedio poblacional en cada caso. En este caso use un nivel de confianza de 95\\% (**20 puntos**)"
      ],
      "metadata": {
        "id": "pcH-F83nBmEa"
      }
    },
    {
      "cell_type": "markdown",
      "source": [
        "##Variable 'depth'"
      ],
      "metadata": {
        "id": "r70J582oe6Ed"
      }
    },
    {
      "cell_type": "code",
      "source": [
        "#Depth \n",
        "print('Con n = 5:')\n",
        "randomChoiceDepth_5=RandomChoice(depth,n=5)\n",
        "DepthConfianza=IntervaloConfianza(mean(randomChoiceDepth_5),depth_mean,depth_pstdev,len(randomChoiceDepth_5),.05,'Depth')\n",
        "print(DepthConfianza)\n",
        "print('\\n')\n",
        "\n",
        "print('Con n = 20:')\n",
        "randomChoiceDepth_20=RandomChoice(depth,n=20)\n",
        "DepthConfianza=IntervaloConfianza(mean(randomChoiceDepth_20),depth_mean,depth_pstdev,len(randomChoiceDepth_20),.05,'Depth')\n",
        "print(DepthConfianza)\n",
        "print('\\n')\n",
        "\n",
        "print('Con n = 50:')\n",
        "randomChoiceDepth_50=RandomChoice(depth,n=50)\n",
        "DepthConfianza=IntervaloConfianza(mean(randomChoiceDepth_50),depth_mean,depth_pstdev,len(randomChoiceDepth_50),.05,'Depth')\n",
        "print(DepthConfianza)"
      ],
      "metadata": {
        "colab": {
          "base_uri": "https://localhost:8080/"
        },
        "id": "5zcy_BPo3dry",
        "outputId": "a9a2deea-87c2-42f9-bbdf-8c1d715d9246"
      },
      "execution_count": null,
      "outputs": [
        {
          "output_type": "stream",
          "name": "stdout",
          "text": [
            "Con n = 5:\n",
            "Tamaño del intervalo = 2.491764736429559\n",
            "Media de la muestra = 60.86\n",
            "La media poblacional 61.788 se encuentra entre los valores de 59.61411763178522 y 62.10588236821478 con un alpha de 0.05 y un N de 5 para la columna Depth\n",
            "\n",
            "\n",
            "Con n = 20:\n",
            "Tamaño del intervalo = 1.2458823682147795\n",
            "Media de la muestra = 61.75\n",
            "La media poblacional 61.788 se encuentra entre los valores de 61.12705881589261 y 62.37294118410739 con un alpha de 0.05 y un N de 20 para la columna Depth\n",
            "\n",
            "\n",
            "Con n = 50:\n",
            "Tamaño del intervalo = 0.7879651960406591\n",
            "Media de la muestra = 61.49\n",
            "La media poblacional 61.788 se encuentra entre los valores de 61.09601740197967 y 61.88398259802033 con un alpha de 0.05 y un N de 50 para la columna Depth\n"
          ]
        }
      ]
    },
    {
      "cell_type": "markdown",
      "source": [
        "##Variable 'price'"
      ],
      "metadata": {
        "id": "N-rnuLZ_e9nJ"
      }
    },
    {
      "cell_type": "code",
      "source": [
        "#price\n",
        "print('Con n = 5:')\n",
        "randomChoicePrice_5=RandomChoice(price,n=5)\n",
        "PriceConfianza=IntervaloConfianza(mean(randomChoicePrice_5),price_mean,price_pstdev,len(randomChoicePrice_5),.05,'Price')\n",
        "print(PriceConfianza)\n",
        "print('\\n')\n",
        "\n",
        "print('Con n = 20:')\n",
        "randomChoicePrice_20=RandomChoice(price,n=20)\n",
        "PriceConfianza=IntervaloConfianza(mean(randomChoicePrice_20),price_mean,price_pstdev,len(randomChoicePrice_20),.05,'Price')\n",
        "print(PriceConfianza)\n",
        "print('\\n')\n",
        "\n",
        "print('Con n = 50:')\n",
        "randomChoicePrice_50=RandomChoice(price,n=50)\n",
        "PriceConfianza=IntervaloConfianza(mean(randomChoicePrice_50),price_mean,price_pstdev,len(randomChoicePrice_50),.05,'Price')\n",
        "print(PriceConfianza)"
      ],
      "metadata": {
        "colab": {
          "base_uri": "https://localhost:8080/"
        },
        "id": "f35mMzbR5PvR",
        "outputId": "429d5cec-f829-402f-b748-cb3a48855195"
      },
      "execution_count": null,
      "outputs": [
        {
          "output_type": "stream",
          "name": "stdout",
          "text": [
            "Con n = 5:\n",
            "Tamaño del intervalo = 6793.114644743\n",
            "Media de la muestra = 1502\n",
            "La media poblacional 3751.065 se encuentra entre los valores de -1894.5573223715005 y 4898.5573223715 con un alpha de 0.05 y un N de 5 para la columna Price\n",
            "\n",
            "\n",
            "Con n = 20:\n",
            "Tamaño del intervalo = 3396.5573223715\n",
            "Media de la muestra = 4408\n",
            "La media poblacional 3751.065 se encuentra entre los valores de 2709.72133881425 y 6106.27866118575 con un alpha de 0.05 y un N de 20 para la columna Price\n",
            "\n",
            "\n",
            "Con n = 50:\n",
            "Tamaño del intervalo = 2148.171468403345\n",
            "Media de la muestra = 4056\n",
            "La media poblacional 3751.065 se encuentra entre los valores de 2981.9142657983275 y 5130.0857342016725 con un alpha de 0.05 y un N de 50 para la columna Price\n"
          ]
        }
      ]
    },
    {
      "cell_type": "markdown",
      "source": [
        "Al mantener el nivel de confianza constante en 95%, se observa que al aumentar $n$ el intervalo de confianza disminuye su tamaño. Por lo tanto, si se quieren obtener estimaciones de medias poblaciones con mayor precisión, para un nivel de confianza determinado, es necesario usar tamaños de muestra mayores."
      ],
      "metadata": {
        "id": "UA7owEyBBUzw"
      }
    },
    {
      "cell_type": "markdown",
      "source": [
        "#Parte 3"
      ],
      "metadata": {
        "id": "ZH0vRu7tiYUu"
      }
    },
    {
      "cell_type": "markdown",
      "source": [
        "- Establecer al menos 2 valores de margen de error $\\rho$ para la media y determinar cuál sería el tamaño de $n$ necesario para poder tener un nivel de confianza de 95\\% (**20 puntos**)"
      ],
      "metadata": {
        "id": "sG4T65SvBplu"
      }
    },
    {
      "cell_type": "markdown",
      "source": [
        "Dado que la relación entre el margen de error  $\\rho$ de la media y el nivel de confianza  ($1-\\alpha$) está dada por: \n",
        "\n",
        "\\begin{equation}\n",
        "n = \\left(\\dfrac{\\sigma z_{\\alpha/2}}{\\rho} \\right)^2\n",
        "\\end{equation}\n",
        "\n",
        "Se puede calcular $n$ para márgenes de error $\\rho$ y niveles de confianza determinados."
      ],
      "metadata": {
        "id": "uhGsxg7dk9d0"
      }
    },
    {
      "cell_type": "code",
      "source": [
        "import math as math\n",
        "\n",
        "#Función para calcular n según márgenes de error y nivel de confianza\n",
        "def MuestraN(pstdev, alpha, rho):\n",
        "  n = math.ceil(((norm.ppf(1-alpha/2)*pstdev)/(rho))**2) #redondeado para arriba\n",
        "  return f'El tamaño de muestra necesario es n={n}, con rho={rho} y nivel de confianza {(1-alpha)*100}%'\n"
      ],
      "metadata": {
        "id": "EwLSK5Rjz3h2"
      },
      "execution_count": null,
      "outputs": []
    },
    {
      "cell_type": "markdown",
      "source": [
        "##Variable 'depth'"
      ],
      "metadata": {
        "id": "0Vm88VIHq0sr"
      }
    },
    {
      "cell_type": "code",
      "source": [
        "#depth\n",
        "print('Margen de error = 0.25:')\n",
        "rho=0.25\n",
        "n=MuestraN(depth_pstdev, 0.05, rho)\n",
        "print(n)\n",
        "print('\\n')\n",
        "\n",
        "print('Margen de error = 0.50:')\n",
        "rho=0.50\n",
        "n=MuestraN(depth_pstdev, 0.05, rho)\n",
        "print(n)"
      ],
      "metadata": {
        "colab": {
          "base_uri": "https://localhost:8080/"
        },
        "id": "kxbA4LCOnTDy",
        "outputId": "8a39d4c4-e19b-4f8d-c4b1-5dac6268ae94"
      },
      "execution_count": null,
      "outputs": [
        {
          "output_type": "stream",
          "name": "stdout",
          "text": [
            "Margen de error = 0.25:\n",
            "El tamaño de muestra necesario es n=125, con rho=0.25 y nivel de confianza 95.0%\n",
            "\n",
            "\n",
            "Margen de error = 0.50:\n",
            "El tamaño de muestra necesario es n=32, con rho=0.5 y nivel de confianza 95.0%\n"
          ]
        }
      ]
    },
    {
      "cell_type": "markdown",
      "source": [
        "##Variable 'price'"
      ],
      "metadata": {
        "id": "6Bk3_dhnt5mx"
      }
    },
    {
      "cell_type": "code",
      "source": [
        "#price\n",
        "print('Margen de error = 1200:')\n",
        "rho=1200\n",
        "n=MuestraN(price_pstdev, 0.05, rho)\n",
        "print(n)\n",
        "print('\\n')\n",
        "\n",
        "print('Margen de error = 1500:')\n",
        "rho=1500\n",
        "n=MuestraN(price_pstdev, 0.05, rho)\n",
        "print(n)"
      ],
      "metadata": {
        "colab": {
          "base_uri": "https://localhost:8080/"
        },
        "id": "CVERLfzgt9MD",
        "outputId": "e7664108-fa72-4f14-a375-c0425893fa83"
      },
      "execution_count": null,
      "outputs": [
        {
          "output_type": "stream",
          "name": "stdout",
          "text": [
            "Margen de error = 1200:\n",
            "El tamaño de muestra necesario es n=41, con rho=1200 y nivel de confianza 95.0%\n",
            "\n",
            "\n",
            "Margen de error = 1500:\n",
            "El tamaño de muestra necesario es n=26, con rho=1500 y nivel de confianza 95.0%\n"
          ]
        }
      ]
    },
    {
      "cell_type": "markdown",
      "source": [
        "#Parte 4"
      ],
      "metadata": {
        "id": "1kKnE80wiHou"
      }
    },
    {
      "cell_type": "markdown",
      "source": [
        "\n",
        "Recuerde que suponemos que el set de datos es nuestra población de interés.\n",
        "\n",
        "Por último, se pide a los estudiantes que para ambas columnas realicen lo siguiente:\n",
        "\n",
        "- Seleccionar 16 muestras aleatorias con número de observaciones $n=10$. Repita lo mismo con $n=25$. \n",
        "- Graficar la comparación del promedio de cada una de las muestras de 10 observaciones con la media poblacional.(pueden usar `scatter` de `matplotlib` con barras de error, como en el siguiente ejemplo). Repita lo mismo con $n=25$. (**15 puntos**)\n",
        "![](https://drive.google.com/uc?id=1q4Gs2Z3LSKk3HvtWJbe926-4Hma2eOLh)\n"
      ],
      "metadata": {
        "id": "1O64c1LRjtj6"
      }
    },
    {
      "cell_type": "code",
      "source": [
        "def muestrasAleatorias(datos,n,cantidadMuestras,pstdev):\n",
        "  mediasAleatorias=[]\n",
        "  error=[]\n",
        "  for i in range(cantidadMuestras):\n",
        "    sample=RandomChoice(datos,n)\n",
        "    med=mean(sample)\n",
        "    mediasAleatorias.append(med)\n",
        "    SEM = pstdev/np.sqrt(n)\n",
        "    error.append(SEM)\n",
        "  return mediasAleatorias,error\n",
        "\n",
        "def plotScatterWithError(Interval,medias,error,title,pop_mean):\n",
        "  plt.title(title)\n",
        "  plt.scatter(Interval, medias)\n",
        "  plt.errorbar(Interval,medias,yerr=error, fmt=\"o\")\n",
        "  plt.axhline(y=pop_mean, color='r', linestyle='--')\n",
        "  plt.show()"
      ],
      "metadata": {
        "id": "NA8u7hbxk7W0"
      },
      "execution_count": null,
      "outputs": []
    },
    {
      "cell_type": "markdown",
      "source": [
        "##Variable 'depth'"
      ],
      "metadata": {
        "id": "dmmvVCcw2iis"
      }
    },
    {
      "cell_type": "code",
      "source": [
        "#depth, n=10\n",
        "mediaAleatoriasDepth_10, error=muestrasAleatorias(depth,10,16,depth_pstdev)\n",
        "plotScatterWithError(range(1,17),mediaAleatoriasDepth_10,error,'Depth with N=10',depth_mean)\n",
        "\n",
        "#depth, n=25\n",
        "mediaAleatoriasDepth_25, error=muestrasAleatorias(depth,25,16,depth_pstdev)\n",
        "plotScatterWithError(range(1,17),mediaAleatoriasDepth_25,error,'Depth with N=25',depth_mean)"
      ],
      "metadata": {
        "colab": {
          "base_uri": "https://localhost:8080/",
          "height": 545
        },
        "id": "vOlxRH0cld83",
        "outputId": "9fa62875-1125-4b50-ff2b-49b5c9c4f505"
      },
      "execution_count": null,
      "outputs": [
        {
          "output_type": "display_data",
          "data": {
            "text/plain": [
              "<Figure size 432x288 with 1 Axes>"
            ],
            "image/png": "[encoded data removed]"
          },
          "metadata": {
            "needs_background": "light"
          }
        },
        {
          "output_type": "display_data",
          "data": {
            "text/plain": [
              "<Figure size 432x288 with 1 Axes>"
            ],
            "image/png": "[encoded data removed]"
          },
          "metadata": {
            "needs_background": "light"
          }
        }
      ]
    },
    {
      "cell_type": "markdown",
      "source": [
        "##Variable 'price'"
      ],
      "metadata": {
        "id": "dsnLBxRi2nGk"
      }
    },
    {
      "cell_type": "code",
      "source": [
        "#price, n=10\n",
        "mediaAleatoriasPrice_10, error=muestrasAleatorias(price,10,16,price_pstdev)\n",
        "plotScatterWithError(range(1,17),mediaAleatoriasPrice_10,error,'Price with N=10',price_mean)\n",
        "\n",
        "#price, n=25\n",
        "mediaAleatoriasPrice_25, error=muestrasAleatorias(price,25,16,price_pstdev)\n",
        "plotScatterWithError(range(1,17),mediaAleatoriasPrice_25,error,'Price with N=25',price_mean)"
      ],
      "metadata": {
        "colab": {
          "base_uri": "https://localhost:8080/",
          "height": 545
        },
        "id": "i1_cxK5F1hgC",
        "outputId": "fc0be4d3-dcd7-4d37-f030-0ed34c5e0ef6"
      },
      "execution_count": null,
      "outputs": [
        {
          "output_type": "display_data",
          "data": {
            "text/plain": [
              "<Figure size 432x288 with 1 Axes>"
            ],
            "image/png": "[encoded data removed]"
          },
          "metadata": {
            "needs_background": "light"
          }
        },
        {
          "output_type": "display_data",
          "data": {
            "text/plain": [
              "<Figure size 432x288 with 1 Axes>"
            ],
            "image/png": "[encoded data removed]"
          },
          "metadata": {
            "needs_background": "light"
          }
        }
      ]
    },
    {
      "cell_type": "markdown",
      "source": [
        "#Parte 5"
      ],
      "metadata": {
        "id": "lESCgzUEty3n"
      }
    },
    {
      "cell_type": "markdown",
      "source": [
        "- Graficar un histograma que ilustre la distribución de las medias muestrales de $n=10$ observaciones. Repita lo mismo con $n=25$. ¿Qué diferencia encuentra entre ambos histogramas?(**15 puntos**)"
      ],
      "metadata": {
        "id": "V9XrPqTF-g3J"
      }
    },
    {
      "cell_type": "code",
      "source": [
        "def showhist(data,title,pop_mean):\n",
        "  plt.title(title)\n",
        "  plt.hist(data)\n",
        "  plt.axvline(x=pop_mean, color='red')\n",
        "  plt.show"
      ],
      "metadata": {
        "id": "lT-vParQ_nNc"
      },
      "execution_count": null,
      "outputs": []
    },
    {
      "cell_type": "markdown",
      "source": [
        "##Variable 'depth'"
      ],
      "metadata": {
        "id": "xi4z8kzy3kHF"
      }
    },
    {
      "cell_type": "code",
      "source": [
        "showhist(mediaAleatoriasDepth_10, 'Depth con N=10', depth_mean)\n",
        "print('SD de las medias muestrales =', depth_pstdev/np.sqrt(10))"
      ],
      "metadata": {
        "colab": {
          "base_uri": "https://localhost:8080/",
          "height": 298
        },
        "id": "GQldfVbi_zms",
        "outputId": "0ded4b32-df51-4ca7-8d0e-b954a2a1c5a9"
      },
      "execution_count": null,
      "outputs": [
        {
          "output_type": "stream",
          "name": "stdout",
          "text": [
            "SD de las medias muestrales = 0.44948370382028296\n"
          ]
        },
        {
          "output_type": "display_data",
          "data": {
            "text/plain": [
              "<Figure size 432x288 with 1 Axes>"
            ],
            "image/png": "[encoded data removed]"
          },
          "metadata": {
            "needs_background": "light"
          }
        }
      ]
    },
    {
      "cell_type": "code",
      "source": [
        "showhist(mediaAleatoriasDepth_25, 'Depth con N=25', depth_mean)\n",
        "print('SD de las medias muestrales =', depth_pstdev/np.sqrt(25))"
      ],
      "metadata": {
        "colab": {
          "base_uri": "https://localhost:8080/",
          "height": 298
        },
        "id": "U1UQhvhd_-9K",
        "outputId": "65a214d8-9944-4869-8780-2726d8a6a99e"
      },
      "execution_count": null,
      "outputs": [
        {
          "output_type": "stream",
          "name": "stdout",
          "text": [
            "SD de las medias muestrales = 0.2842784550401243\n"
          ]
        },
        {
          "output_type": "display_data",
          "data": {
            "text/plain": [
              "<Figure size 432x288 with 1 Axes>"
            ],
            "image/png": "[encoded data removed]"
          },
          "metadata": {
            "needs_background": "light"
          }
        }
      ]
    },
    {
      "cell_type": "code",
      "source": [
        "#depth, SD de la medias muestrales para tamaños de muestra adicionales\n",
        "print('n=50,', 'SD =', depth_pstdev/np.sqrt(50))\n",
        "print('n=100,', 'SD =', depth_pstdev/np.sqrt(100))"
      ],
      "metadata": {
        "colab": {
          "base_uri": "https://localhost:8080/"
        },
        "id": "qZVvPDcbylv7",
        "outputId": "0f1f304f-00ed-419d-c5ce-d7b16a8de615"
      },
      "execution_count": null,
      "outputs": [
        {
          "output_type": "stream",
          "name": "stdout",
          "text": [
            "n=50, SD = 0.20101522330410693\n",
            "n=100, SD = 0.14213922752006214\n"
          ]
        }
      ]
    },
    {
      "cell_type": "markdown",
      "source": [
        "##Variable 'price'"
      ],
      "metadata": {
        "id": "o8xNnl4b3dE_"
      }
    },
    {
      "cell_type": "code",
      "source": [
        "showhist(mediaAleatoriasPrice_10, 'Price con N=10', price_mean)\n",
        "print('SD de las medias muestrales =', price_pstdev/np.sqrt(10))"
      ],
      "metadata": {
        "colab": {
          "base_uri": "https://localhost:8080/",
          "height": 298
        },
        "id": "fSU9KLlwAEsX",
        "outputId": "c27e5132-f506-4d66-e30a-390b93348737"
      },
      "execution_count": null,
      "outputs": [
        {
          "output_type": "stream",
          "name": "stdout",
          "text": [
            "SD de las medias muestrales = 1225.3943104476614\n"
          ]
        },
        {
          "output_type": "display_data",
          "data": {
            "text/plain": [
              "<Figure size 432x288 with 1 Axes>"
            ],
            "image/png": "[encoded data removed]"
          },
          "metadata": {
            "needs_background": "light"
          }
        }
      ]
    },
    {
      "cell_type": "code",
      "source": [
        "showhist(mediaAleatoriasPrice_25, 'Price con N=25', price_mean)\n",
        "print('SD de las medias muestrales =', price_pstdev/np.sqrt(25))"
      ],
      "metadata": {
        "colab": {
          "base_uri": "https://localhost:8080/",
          "height": 298
        },
        "id": "B63H02toALcC",
        "outputId": "628cabc7-b514-46ef-fd04-feda09a0b9be"
      },
      "execution_count": null,
      "outputs": [
        {
          "output_type": "stream",
          "name": "stdout",
          "text": [
            "SD de las medias muestrales = 775.0074105652151\n"
          ]
        },
        {
          "output_type": "display_data",
          "data": {
            "text/plain": [
              "<Figure size 432x288 with 1 Axes>"
            ],
            "image/png": "[encoded data removed]"
          },
          "metadata": {
            "needs_background": "light"
          }
        }
      ]
    },
    {
      "cell_type": "code",
      "source": [
        "#price, SD de la medias muestrales para tamaños de muestra adicionales\n",
        "print('n=50,', 'SD =', price_pstdev/np.sqrt(50))\n",
        "print('n=100,', 'SD =', price_pstdev/np.sqrt(100))"
      ],
      "metadata": {
        "colab": {
          "base_uri": "https://localhost:8080/"
        },
        "id": "rO2Nzlt03NrZ",
        "outputId": "620c9b4d-eca2-492c-97c6-dc710b756c0e"
      },
      "execution_count": null,
      "outputs": [
        {
          "output_type": "stream",
          "name": "stdout",
          "text": [
            "n=50, SD = 548.0129954804903\n",
            "n=100, SD = 387.50370528260754\n"
          ]
        }
      ]
    },
    {
      "cell_type": "markdown",
      "source": [
        "Al graficar los histogramas, se observa que la varianza alrededor del valor de la media poblacional (que se está estimando) disminuye conforme aumenta la cantidad de observaciones por muestra $n$. Esto se fundamenta en el Teorema del Límite Central, el cual establece que las medias de las muestras siguen una distribución normal, con media $\\mu_{\\overline{x}}=\\mu$, y varianza $\\sigma_{\\overline{x}}^{2}=\\frac{\\sigma^{2}}{n}$.\n",
        "\n",
        "Asimismo, esto también se observó al calcular el valor de la desviación estándar de las medias muestrales, dado por $\\frac{\\sigma}{\\sqrt{n}}$, y utilizando dos tamaños de muestra adicionales, $n=50$ y $n=100$. Tal como lo establece el TLC, la desviación estándar de las medias muestrales disminuye conforme aumenta la cantidad de observaciones por muestra $n$."
      ],
      "metadata": {
        "id": "RRHECRnf32Mx"
      }
    }
  ]
}